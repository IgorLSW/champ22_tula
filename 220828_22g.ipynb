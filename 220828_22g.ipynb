{
 "cells": [
  {
   "cell_type": "markdown",
   "metadata": {},
   "source": [
    "# Создание модели прогнозирования заболеваемости населения\n",
    "\n",
    "## Чемпионат Тульская область\n",
    "\n",
    "9 августа — 2 сентября 2022"
   ]
  },
  {
   "cell_type": "code",
   "execution_count": 1,
   "metadata": {
    "id": "PH1ciUFHcsnj"
   },
   "outputs": [],
   "source": [
    "#!cp /content/drive/MyDrive/Colab/Data/'Готовые задачи'/Калининград/participants/train/train.csv ./ \n",
    "#!cp /content/drive/MyDrive/Colab/Data/'Готовые задачи'/Калининград/participants/test/test.csv ./ "
   ]
  },
  {
   "cell_type": "code",
   "execution_count": 2,
   "metadata": {
    "colab": {
     "base_uri": "https://localhost:8080/"
    },
    "id": "SATJhyzmeJZ-",
    "outputId": "e2f8956d-820d-4ee7-a12f-c19fb80c3e87"
   },
   "outputs": [],
   "source": [
    "#Установка catboost\n",
    "#!pip install catboost"
   ]
  },
  {
   "cell_type": "code",
   "execution_count": 3,
   "metadata": {},
   "outputs": [],
   "source": [
    "import time\n",
    "start_time = time.time()"
   ]
  },
  {
   "cell_type": "code",
   "execution_count": 4,
   "metadata": {
    "id": "E25l8C4adTU4"
   },
   "outputs": [],
   "source": [
    "#import необходимых модулей\n",
    "\n",
    "import pandas as pd\n",
    "from catboost import CatBoostRegressor, Pool\n",
    "from sklearn.model_selection import train_test_split\n",
    "from sklearn.metrics import r2_score\n",
    "from matplotlib import pyplot as plt"
   ]
  },
  {
   "cell_type": "code",
   "execution_count": 5,
   "metadata": {
    "id": "WdI39lYbcziV"
   },
   "outputs": [],
   "source": [
    "#Считывание данных в DataFrame \n",
    "\n",
    "train = pd.read_csv('train.csv', sep=';', index_col=None, dtype={'PATIENT_SEX':str, 'MKB_CODE':str, 'ADRES':str, 'VISIT_MONTH_YEAR':str, 'AGE_CATEGORY':str, 'PATIENT_ID_COUNT':int})\n",
    "test = pd.read_csv('test.csv', sep=';', index_col=None, dtype={'PATIENT_SEX':str, 'MKB_CODE':str, 'ADRES':str, 'VISIT_MONTH_YEAR':str, 'AGE_CATEGORY':str})"
   ]
  },
  {
   "cell_type": "markdown",
   "metadata": {},
   "source": [
    "### Исследование данных"
   ]
  },
  {
   "cell_type": "code",
   "execution_count": 6,
   "metadata": {},
   "outputs": [
    {
     "data": {
      "text/html": [
       "<div>\n",
       "<style scoped>\n",
       "    .dataframe tbody tr th:only-of-type {\n",
       "        vertical-align: middle;\n",
       "    }\n",
       "\n",
       "    .dataframe tbody tr th {\n",
       "        vertical-align: top;\n",
       "    }\n",
       "\n",
       "    .dataframe thead th {\n",
       "        text-align: right;\n",
       "    }\n",
       "</style>\n",
       "<table border=\"1\" class=\"dataframe\">\n",
       "  <thead>\n",
       "    <tr style=\"text-align: right;\">\n",
       "      <th></th>\n",
       "      <th>PATIENT_SEX</th>\n",
       "      <th>MKB_CODE</th>\n",
       "      <th>ADRES</th>\n",
       "      <th>VISIT_MONTH_YEAR</th>\n",
       "      <th>AGE_CATEGORY</th>\n",
       "      <th>PATIENT_ID_COUNT</th>\n",
       "    </tr>\n",
       "  </thead>\n",
       "  <tbody>\n",
       "    <tr>\n",
       "      <th>0</th>\n",
       "      <td>0</td>\n",
       "      <td>A00.0</td>\n",
       "      <td>Гурьевск</td>\n",
       "      <td>08.21</td>\n",
       "      <td>young</td>\n",
       "      <td>1</td>\n",
       "    </tr>\n",
       "    <tr>\n",
       "      <th>1</th>\n",
       "      <td>0</td>\n",
       "      <td>A00.0</td>\n",
       "      <td>Калининград</td>\n",
       "      <td>03.20</td>\n",
       "      <td>children</td>\n",
       "      <td>1</td>\n",
       "    </tr>\n",
       "    <tr>\n",
       "      <th>2</th>\n",
       "      <td>0</td>\n",
       "      <td>A00</td>\n",
       "      <td>Гусев</td>\n",
       "      <td>03.19</td>\n",
       "      <td>children</td>\n",
       "      <td>1</td>\n",
       "    </tr>\n",
       "    <tr>\n",
       "      <th>3</th>\n",
       "      <td>0</td>\n",
       "      <td>A00</td>\n",
       "      <td>Калининград</td>\n",
       "      <td>01.22</td>\n",
       "      <td>children</td>\n",
       "      <td>1</td>\n",
       "    </tr>\n",
       "    <tr>\n",
       "      <th>4</th>\n",
       "      <td>0</td>\n",
       "      <td>A00</td>\n",
       "      <td>Калининград</td>\n",
       "      <td>02.18</td>\n",
       "      <td>children</td>\n",
       "      <td>1</td>\n",
       "    </tr>\n",
       "  </tbody>\n",
       "</table>\n",
       "</div>"
      ],
      "text/plain": [
       "  PATIENT_SEX MKB_CODE        ADRES VISIT_MONTH_YEAR AGE_CATEGORY  \\\n",
       "0           0    A00.0     Гурьевск            08.21        young   \n",
       "1           0    A00.0  Калининград            03.20     children   \n",
       "2           0      A00        Гусев            03.19     children   \n",
       "3           0      A00  Калининград            01.22     children   \n",
       "4           0      A00  Калининград            02.18     children   \n",
       "\n",
       "   PATIENT_ID_COUNT  \n",
       "0                 1  \n",
       "1                 1  \n",
       "2                 1  \n",
       "3                 1  \n",
       "4                 1  "
      ]
     },
     "execution_count": 6,
     "metadata": {},
     "output_type": "execute_result"
    }
   ],
   "source": [
    "train.head()"
   ]
  },
  {
   "cell_type": "code",
   "execution_count": 7,
   "metadata": {},
   "outputs": [
    {
     "data": {
      "text/html": [
       "<div>\n",
       "<style scoped>\n",
       "    .dataframe tbody tr th:only-of-type {\n",
       "        vertical-align: middle;\n",
       "    }\n",
       "\n",
       "    .dataframe tbody tr th {\n",
       "        vertical-align: top;\n",
       "    }\n",
       "\n",
       "    .dataframe thead th {\n",
       "        text-align: right;\n",
       "    }\n",
       "</style>\n",
       "<table border=\"1\" class=\"dataframe\">\n",
       "  <thead>\n",
       "    <tr style=\"text-align: right;\">\n",
       "      <th></th>\n",
       "      <th>PATIENT_SEX</th>\n",
       "      <th>MKB_CODE</th>\n",
       "      <th>ADRES</th>\n",
       "      <th>VISIT_MONTH_YEAR</th>\n",
       "      <th>AGE_CATEGORY</th>\n",
       "    </tr>\n",
       "  </thead>\n",
       "  <tbody>\n",
       "    <tr>\n",
       "      <th>0</th>\n",
       "      <td>0</td>\n",
       "      <td>A00</td>\n",
       "      <td>Калининград</td>\n",
       "      <td>04.22</td>\n",
       "      <td>children</td>\n",
       "    </tr>\n",
       "    <tr>\n",
       "      <th>1</th>\n",
       "      <td>0</td>\n",
       "      <td>A00</td>\n",
       "      <td>Калининград</td>\n",
       "      <td>04.22</td>\n",
       "      <td>elderly</td>\n",
       "    </tr>\n",
       "    <tr>\n",
       "      <th>2</th>\n",
       "      <td>0</td>\n",
       "      <td>A00</td>\n",
       "      <td>Калининград</td>\n",
       "      <td>04.22</td>\n",
       "      <td>middleage</td>\n",
       "    </tr>\n",
       "    <tr>\n",
       "      <th>3</th>\n",
       "      <td>0</td>\n",
       "      <td>A00</td>\n",
       "      <td>Калининград</td>\n",
       "      <td>04.22</td>\n",
       "      <td>young</td>\n",
       "    </tr>\n",
       "    <tr>\n",
       "      <th>4</th>\n",
       "      <td>0</td>\n",
       "      <td>A01</td>\n",
       "      <td>Калининград</td>\n",
       "      <td>04.22</td>\n",
       "      <td>middleage</td>\n",
       "    </tr>\n",
       "  </tbody>\n",
       "</table>\n",
       "</div>"
      ],
      "text/plain": [
       "  PATIENT_SEX MKB_CODE        ADRES VISIT_MONTH_YEAR AGE_CATEGORY\n",
       "0           0      A00  Калининград            04.22     children\n",
       "1           0      A00  Калининград            04.22      elderly\n",
       "2           0      A00  Калининград            04.22    middleage\n",
       "3           0      A00  Калининград            04.22        young\n",
       "4           0      A01  Калининград            04.22    middleage"
      ]
     },
     "execution_count": 7,
     "metadata": {},
     "output_type": "execute_result"
    }
   ],
   "source": [
    "test.head()"
   ]
  },
  {
   "cell_type": "code",
   "execution_count": 8,
   "metadata": {},
   "outputs": [
    {
     "name": "stdout",
     "output_type": "stream",
     "text": [
      "<class 'pandas.core.frame.DataFrame'>\n",
      "RangeIndex: 2212393 entries, 0 to 2212392\n",
      "Data columns (total 6 columns):\n",
      " #   Column            Dtype \n",
      "---  ------            ----- \n",
      " 0   PATIENT_SEX       object\n",
      " 1   MKB_CODE          object\n",
      " 2   ADRES             object\n",
      " 3   VISIT_MONTH_YEAR  object\n",
      " 4   AGE_CATEGORY      object\n",
      " 5   PATIENT_ID_COUNT  int32 \n",
      "dtypes: int32(1), object(5)\n",
      "memory usage: 92.8+ MB\n"
     ]
    }
   ],
   "source": [
    "train.info()"
   ]
  },
  {
   "cell_type": "code",
   "execution_count": 9,
   "metadata": {},
   "outputs": [
    {
     "name": "stdout",
     "output_type": "stream",
     "text": [
      "<class 'pandas.core.frame.DataFrame'>\n",
      "RangeIndex: 39373 entries, 0 to 39372\n",
      "Data columns (total 5 columns):\n",
      " #   Column            Non-Null Count  Dtype \n",
      "---  ------            --------------  ----- \n",
      " 0   PATIENT_SEX       39373 non-null  object\n",
      " 1   MKB_CODE          39373 non-null  object\n",
      " 2   ADRES             39373 non-null  object\n",
      " 3   VISIT_MONTH_YEAR  39373 non-null  object\n",
      " 4   AGE_CATEGORY      39373 non-null  object\n",
      "dtypes: object(5)\n",
      "memory usage: 1.5+ MB\n"
     ]
    }
   ],
   "source": [
    "test.info()"
   ]
  },
  {
   "cell_type": "code",
   "execution_count": 10,
   "metadata": {},
   "outputs": [
    {
     "data": {
      "text/plain": [
       "PATIENT_SEX         0\n",
       "MKB_CODE            0\n",
       "ADRES               0\n",
       "VISIT_MONTH_YEAR    0\n",
       "AGE_CATEGORY        0\n",
       "PATIENT_ID_COUNT    0\n",
       "dtype: int64"
      ]
     },
     "execution_count": 10,
     "metadata": {},
     "output_type": "execute_result"
    }
   ],
   "source": [
    "train.isna().sum()"
   ]
  },
  {
   "cell_type": "code",
   "execution_count": 11,
   "metadata": {},
   "outputs": [
    {
     "data": {
      "text/html": [
       "<div>\n",
       "<style scoped>\n",
       "    .dataframe tbody tr th:only-of-type {\n",
       "        vertical-align: middle;\n",
       "    }\n",
       "\n",
       "    .dataframe tbody tr th {\n",
       "        vertical-align: top;\n",
       "    }\n",
       "\n",
       "    .dataframe thead th {\n",
       "        text-align: right;\n",
       "    }\n",
       "</style>\n",
       "<table border=\"1\" class=\"dataframe\">\n",
       "  <thead>\n",
       "    <tr style=\"text-align: right;\">\n",
       "      <th></th>\n",
       "      <th>PATIENT_ID_COUNT</th>\n",
       "    </tr>\n",
       "  </thead>\n",
       "  <tbody>\n",
       "    <tr>\n",
       "      <th>count</th>\n",
       "      <td>2.212393e+06</td>\n",
       "    </tr>\n",
       "    <tr>\n",
       "      <th>mean</th>\n",
       "      <td>5.847853e+00</td>\n",
       "    </tr>\n",
       "    <tr>\n",
       "      <th>std</th>\n",
       "      <td>6.042780e+01</td>\n",
       "    </tr>\n",
       "    <tr>\n",
       "      <th>min</th>\n",
       "      <td>1.000000e+00</td>\n",
       "    </tr>\n",
       "    <tr>\n",
       "      <th>25%</th>\n",
       "      <td>1.000000e+00</td>\n",
       "    </tr>\n",
       "    <tr>\n",
       "      <th>50%</th>\n",
       "      <td>1.000000e+00</td>\n",
       "    </tr>\n",
       "    <tr>\n",
       "      <th>75%</th>\n",
       "      <td>2.000000e+00</td>\n",
       "    </tr>\n",
       "    <tr>\n",
       "      <th>max</th>\n",
       "      <td>1.353200e+04</td>\n",
       "    </tr>\n",
       "  </tbody>\n",
       "</table>\n",
       "</div>"
      ],
      "text/plain": [
       "       PATIENT_ID_COUNT\n",
       "count      2.212393e+06\n",
       "mean       5.847853e+00\n",
       "std        6.042780e+01\n",
       "min        1.000000e+00\n",
       "25%        1.000000e+00\n",
       "50%        1.000000e+00\n",
       "75%        2.000000e+00\n",
       "max        1.353200e+04"
      ]
     },
     "execution_count": 11,
     "metadata": {},
     "output_type": "execute_result"
    }
   ],
   "source": [
    "train.describe()"
   ]
  },
  {
   "cell_type": "code",
   "execution_count": 12,
   "metadata": {},
   "outputs": [
    {
     "data": {
      "text/plain": [
       "0    1316709\n",
       "1     895684\n",
       "Name: PATIENT_SEX, dtype: int64"
      ]
     },
     "execution_count": 12,
     "metadata": {},
     "output_type": "execute_result"
    }
   ],
   "source": [
    "train['PATIENT_SEX'].value_counts()"
   ]
  },
  {
   "cell_type": "code",
   "execution_count": 13,
   "metadata": {},
   "outputs": [
    {
     "data": {
      "text/plain": [
       "J06.9    19100\n",
       "I11.9    17282\n",
       "Z00.0    15419\n",
       "Z02.7    13458\n",
       "K02.1    13132\n",
       "         ...  \n",
       "D76.1        1\n",
       "Z44.3        1\n",
       "D80.7        1\n",
       "D82.9        1\n",
       "Z96.2        1\n",
       "Name: MKB_CODE, Length: 7644, dtype: int64"
      ]
     },
     "execution_count": 13,
     "metadata": {},
     "output_type": "execute_result"
    }
   ],
   "source": [
    "train['MKB_CODE'].value_counts()"
   ]
  },
  {
   "cell_type": "code",
   "execution_count": 14,
   "metadata": {},
   "outputs": [
    {
     "data": {
      "text/plain": [
       "Калининград           617129\n",
       "Гурьевск              116111\n",
       "Светлый                85748\n",
       "Пионерский             84932\n",
       "Советск                78466\n",
       "                       ...  \n",
       "Ясная Поляна            2670\n",
       "Малинники               2649\n",
       "Гурьевский              2635\n",
       "СТ Радуга               2588\n",
       "СТ Железнодорожник      2517\n",
       "Name: ADRES, Length: 118, dtype: int64"
      ]
     },
     "execution_count": 14,
     "metadata": {},
     "output_type": "execute_result"
    }
   ],
   "source": [
    "train['ADRES'].value_counts()"
   ]
  },
  {
   "cell_type": "code",
   "execution_count": 15,
   "metadata": {},
   "outputs": [
    {
     "data": {
      "text/plain": [
       "Калининград        11989\n",
       "Гурьевск             629\n",
       "Пионерский           287\n",
       "Зеленоградск         235\n",
       "Черняховск           197\n",
       "Советск              186\n",
       "Светлый              150\n",
       "Гусев                147\n",
       "Балтийск             145\n",
       "Гвардейск            138\n",
       "Багратионовск        132\n",
       "Правдинск             94\n",
       "Славск                58\n",
       "Неман                 54\n",
       "Светлогорск           47\n",
       "Озерск                46\n",
       "Нестеров              39\n",
       "Полесск               39\n",
       "Краснознаменск        33\n",
       "Мамоново              28\n",
       "Васильково            13\n",
       "Большое Исаково        9\n",
       "Прибрежный             3\n",
       "Янтарный               2\n",
       "Name: ADRES, dtype: int64"
      ]
     },
     "execution_count": 15,
     "metadata": {},
     "output_type": "execute_result"
    }
   ],
   "source": [
    "train['ADRES'][train['PATIENT_ID_COUNT'] > 100].value_counts()"
   ]
  },
  {
   "cell_type": "code",
   "execution_count": 16,
   "metadata": {},
   "outputs": [
    {
     "data": {
      "text/plain": [
       "10.19    63145\n",
       "04.19    61646\n",
       "12.19    60759\n",
       "10.18    60258\n",
       "11.18    58999\n",
       "03.19    58933\n",
       "07.19    58811\n",
       "11.19    58485\n",
       "09.19    57688\n",
       "02.19    57278\n",
       "12.18    56813\n",
       "03.18    56510\n",
       "08.19    56411\n",
       "04.18    56068\n",
       "07.18    55876\n",
       "05.19    55516\n",
       "02.18    55369\n",
       "06.19    55302\n",
       "06.18    55048\n",
       "08.18    55040\n",
       "05.18    55023\n",
       "09.18    53682\n",
       "01.19    53661\n",
       "01.18    50770\n",
       "03.22    36298\n",
       "10.20    35684\n",
       "09.20    35458\n",
       "04.21    34922\n",
       "12.21    34720\n",
       "06.21    34547\n",
       "09.21    34471\n",
       "03.20    34416\n",
       "02.20    34376\n",
       "03.21    34137\n",
       "07.21    33806\n",
       "11.21    33548\n",
       "08.21    33153\n",
       "07.20    33073\n",
       "10.21    33057\n",
       "05.21    32948\n",
       "08.20    32434\n",
       "01.20    30550\n",
       "11.20    29442\n",
       "02.21    29176\n",
       "06.20    29166\n",
       "12.20    28624\n",
       "01.22    25743\n",
       "02.22    24348\n",
       "01.21    22959\n",
       "04.20    22893\n",
       "05.20    21353\n",
       "Name: VISIT_MONTH_YEAR, dtype: int64"
      ]
     },
     "execution_count": 16,
     "metadata": {},
     "output_type": "execute_result"
    }
   ],
   "source": [
    "train['VISIT_MONTH_YEAR'].value_counts()"
   ]
  },
  {
   "cell_type": "code",
   "execution_count": 17,
   "metadata": {},
   "outputs": [
    {
     "data": {
      "text/plain": [
       "young           552363\n",
       "elderly         514680\n",
       "middleage       438426\n",
       "children        430511\n",
       "old             214493\n",
       "centenarians     61920\n",
       "Name: AGE_CATEGORY, dtype: int64"
      ]
     },
     "execution_count": 17,
     "metadata": {},
     "output_type": "execute_result"
    }
   ],
   "source": [
    "train['AGE_CATEGORY'].value_counts()"
   ]
  },
  {
   "cell_type": "code",
   "execution_count": 18,
   "metadata": {},
   "outputs": [
    {
     "data": {
      "text/plain": [
       "1       1366778\n",
       "2        318988\n",
       "3        136250\n",
       "4         77480\n",
       "5         50492\n",
       "         ...   \n",
       "1241          1\n",
       "4501          1\n",
       "1166          1\n",
       "1415          1\n",
       "6733          1\n",
       "Name: PATIENT_ID_COUNT, Length: 1688, dtype: int64"
      ]
     },
     "execution_count": 18,
     "metadata": {},
     "output_type": "execute_result"
    }
   ],
   "source": [
    "train['PATIENT_ID_COUNT'].value_counts()"
   ]
  },
  {
   "cell_type": "code",
   "execution_count": 19,
   "metadata": {},
   "outputs": [
    {
     "data": {
      "text/html": [
       "<div>\n",
       "<style scoped>\n",
       "    .dataframe tbody tr th:only-of-type {\n",
       "        vertical-align: middle;\n",
       "    }\n",
       "\n",
       "    .dataframe tbody tr th {\n",
       "        vertical-align: top;\n",
       "    }\n",
       "\n",
       "    .dataframe thead th {\n",
       "        text-align: right;\n",
       "    }\n",
       "</style>\n",
       "<table border=\"1\" class=\"dataframe\">\n",
       "  <thead>\n",
       "    <tr style=\"text-align: right;\">\n",
       "      <th></th>\n",
       "      <th>PATIENT_SEX</th>\n",
       "      <th>MKB_CODE</th>\n",
       "      <th>ADRES</th>\n",
       "      <th>VISIT_MONTH_YEAR</th>\n",
       "      <th>AGE_CATEGORY</th>\n",
       "    </tr>\n",
       "  </thead>\n",
       "  <tbody>\n",
       "    <tr>\n",
       "      <th>count</th>\n",
       "      <td>39373</td>\n",
       "      <td>39373</td>\n",
       "      <td>39373</td>\n",
       "      <td>39373</td>\n",
       "      <td>39373</td>\n",
       "    </tr>\n",
       "    <tr>\n",
       "      <th>unique</th>\n",
       "      <td>2</td>\n",
       "      <td>4106</td>\n",
       "      <td>20</td>\n",
       "      <td>1</td>\n",
       "      <td>6</td>\n",
       "    </tr>\n",
       "    <tr>\n",
       "      <th>top</th>\n",
       "      <td>0</td>\n",
       "      <td>J06.9</td>\n",
       "      <td>Калининград</td>\n",
       "      <td>04.22</td>\n",
       "      <td>elderly</td>\n",
       "    </tr>\n",
       "    <tr>\n",
       "      <th>freq</th>\n",
       "      <td>23099</td>\n",
       "      <td>209</td>\n",
       "      <td>13729</td>\n",
       "      <td>39373</td>\n",
       "      <td>9273</td>\n",
       "    </tr>\n",
       "  </tbody>\n",
       "</table>\n",
       "</div>"
      ],
      "text/plain": [
       "       PATIENT_SEX MKB_CODE        ADRES VISIT_MONTH_YEAR AGE_CATEGORY\n",
       "count        39373    39373        39373            39373        39373\n",
       "unique           2     4106           20                1            6\n",
       "top              0    J06.9  Калининград            04.22      elderly\n",
       "freq         23099      209        13729            39373         9273"
      ]
     },
     "execution_count": 19,
     "metadata": {},
     "output_type": "execute_result"
    }
   ],
   "source": [
    "test.describe()"
   ]
  },
  {
   "cell_type": "code",
   "execution_count": 20,
   "metadata": {},
   "outputs": [
    {
     "data": {
      "image/png": "[encoded data removed]",
      "text/plain": [
       "<Figure size 432x288 with 1 Axes>"
      ]
     },
     "metadata": {
      "needs_background": "light"
     },
     "output_type": "display_data"
    }
   ],
   "source": [
    "train['PATIENT_ID_COUNT'].plot()\n",
    "plt.show()"
   ]
  },
  {
   "cell_type": "code",
   "execution_count": null,
   "metadata": {},
   "outputs": [],
   "source": []
  },
  {
   "cell_type": "code",
   "execution_count": null,
   "metadata": {},
   "outputs": [],
   "source": []
  },
  {
   "cell_type": "markdown",
   "metadata": {},
   "source": [
    "### Решение"
   ]
  },
  {
   "cell_type": "code",
   "execution_count": 21,
   "metadata": {},
   "outputs": [],
   "source": [
    "# Преобразование VISIT_MONTH_YEAR to_datetime"
   ]
  },
  {
   "cell_type": "code",
   "execution_count": 22,
   "metadata": {},
   "outputs": [],
   "source": [
    "train['VISIT_MONTH_YEAR']=train['VISIT_MONTH_YEAR'].astype(str)\n",
    "train['VISIT_MONTH_YEAR'] = '01.' +  train['VISIT_MONTH_YEAR']\n",
    "train['VISIT_MONTH_YEAR'] = pd.to_datetime(train['VISIT_MONTH_YEAR'], dayfirst=True)"
   ]
  },
  {
   "cell_type": "code",
   "execution_count": 23,
   "metadata": {},
   "outputs": [],
   "source": [
    "test1 = test.copy()\n",
    "test1['VISIT_MONTH_YEAR']=test['VISIT_MONTH_YEAR'].astype(str)\n",
    "test1['VISIT_MONTH_YEAR'] = '01.' +  test1['VISIT_MONTH_YEAR']\n",
    "test1['VISIT_MONTH_YEAR'] = pd.to_datetime(test1['VISIT_MONTH_YEAR'], dayfirst=True)"
   ]
  },
  {
   "cell_type": "code",
   "execution_count": 24,
   "metadata": {
    "id": "F36oJ4HKe9fL"
   },
   "outputs": [],
   "source": [
    "#Отделение меток от данных\n",
    "\n",
    "X = train[['PATIENT_SEX', 'MKB_CODE', 'ADRES', 'VISIT_MONTH_YEAR', 'AGE_CATEGORY']]\n",
    "y = train[['PATIENT_ID_COUNT']]"
   ]
  },
  {
   "cell_type": "code",
   "execution_count": 25,
   "metadata": {
    "id": "CzxyqSvQfaPi"
   },
   "outputs": [],
   "source": [
    "#Разделение на train/test для локального тестирования\n",
    "\n",
    "X_train, X_test, y_train, y_test = train_test_split(X, y, test_size=0.20, random_state=1)"
   ]
  },
  {
   "cell_type": "code",
   "execution_count": 26,
   "metadata": {
    "id": "xIv9Jg72dZCP"
   },
   "outputs": [],
   "source": [
    "#Создание объекта данных Pool, плюсы: возможность указать какие признаки являются категориальными\n",
    "\n",
    "pool_train = Pool(X_train, y_train, cat_features = ['PATIENT_SEX', 'MKB_CODE', 'ADRES', 'AGE_CATEGORY'])\n",
    "pool_test = Pool(X_test, cat_features = ['PATIENT_SEX', 'MKB_CODE', 'ADRES', 'AGE_CATEGORY'])"
   ]
  },
  {
   "cell_type": "code",
   "execution_count": 27,
   "metadata": {
    "colab": {
     "base_uri": "https://localhost:8080/"
    },
    "id": "dF-NDYYHgVw_",
    "outputId": "c754d192-192e-463c-dd36-a1772423d4ee"
   },
   "outputs": [
    {
     "data": {
      "application/vnd.jupyter.widget-view+json": {
       "model_id": "2c6c5f256cdd44659df14705cfa02c25",
       "version_major": 2,
       "version_minor": 0
      },
      "text/plain": [
       "MetricVisualizer(layout=Layout(align_self='stretch', height='500px'))"
      ]
     },
     "metadata": {},
     "output_type": "display_data"
    },
    {
     "data": {
      "text/plain": [
       "<catboost.core.CatBoostRegressor at 0x195998fbf70>"
      ]
     },
     "execution_count": 27,
     "metadata": {},
     "output_type": "execute_result"
    }
   ],
   "source": [
    "#Объявление CatBoostRegressor и обучение\n",
    "\n",
    "#model = CatBoostRegressor(task_type='GPU')\n",
    "model = CatBoostRegressor(depth = 7, iterations = 1000)\n",
    "model.fit(pool_train,verbose=False, plot=True)"
   ]
  },
  {
   "cell_type": "code",
   "execution_count": 28,
   "metadata": {
    "id": "5z1XLMyLhKfg"
   },
   "outputs": [],
   "source": [
    "#Получение ответов модели на тестовой выборке в локальном тестировании \n",
    "\n",
    "y_pred = model.predict(pool_test)"
   ]
  },
  {
   "cell_type": "code",
   "execution_count": 29,
   "metadata": {
    "colab": {
     "base_uri": "https://localhost:8080/"
    },
    "id": "9H47fZoodgoP",
    "outputId": "459bc7e3-80c6-484e-a632-6f7222cb3749"
   },
   "outputs": [
    {
     "name": "stdout",
     "output_type": "stream",
     "text": [
      "Значение метрики R2 на test:  0.9255703980885073\n"
     ]
    }
   ],
   "source": [
    "#На локальном тестировании модель выдаёт такой результат\n",
    "\n",
    "print(\"Значение метрики R2 на test: \", r2_score(y_test, y_pred))"
   ]
  },
  {
   "cell_type": "code",
   "execution_count": 30,
   "metadata": {
    "colab": {
     "base_uri": "https://localhost:8080/"
    },
    "id": "8xtAbnFzh55G",
    "outputId": "59c4b647-3bbd-41a6-9934-d1ac7f50a2d1"
   },
   "outputs": [],
   "source": [
    "#Формируем sample_solution. В обучении используется весь train, ответы получаем на test\n",
    "\n",
    "pool_train_solution = Pool(X, y, cat_features = ['PATIENT_SEX', 'MKB_CODE', 'ADRES', 'AGE_CATEGORY'])\n",
    "pool_test_solution = Pool(test, cat_features = ['PATIENT_SEX', 'MKB_CODE', 'ADRES', 'AGE_CATEGORY'])\n",
    "\n",
    "#model_solution = CatBoostRegressor(task_type='GPU')\n",
    "#model_solution = CatBoostRegressor(depth = 7, iterations = 1000)\n",
    "#model_solution.fit(pool_train_solution,verbose=False, plot=True)"
   ]
  },
  {
   "cell_type": "code",
   "execution_count": 31,
   "metadata": {
    "id": "v7wpw4hCiN2H"
   },
   "outputs": [],
   "source": [
    "#Получение ответов\n",
    "\n",
    "y_pred_solution = model.predict(pool_test_solution)"
   ]
  },
  {
   "cell_type": "code",
   "execution_count": 32,
   "metadata": {},
   "outputs": [
    {
     "data": {
      "text/plain": [
       "array([0.62080031, 1.19084296, 1.1200607 , ..., 1.14489663, 1.13466588,\n",
       "       1.20294743])"
      ]
     },
     "execution_count": 32,
     "metadata": {},
     "output_type": "execute_result"
    }
   ],
   "source": [
    "y_pred_solution"
   ]
  },
  {
   "cell_type": "code",
   "execution_count": 33,
   "metadata": {
    "colab": {
     "base_uri": "https://localhost:8080/"
    },
    "id": "_axTBybcjVgF",
    "outputId": "36359a08-0350-4269-d50d-0cc377b3ced1"
   },
   "outputs": [
    {
     "data": {
      "text/plain": [
       "array([0, 1, 1, ..., 1, 1, 1])"
      ]
     },
     "execution_count": 33,
     "metadata": {},
     "output_type": "execute_result"
    }
   ],
   "source": [
    "#Вот так они выглядят\n",
    "\n",
    "y_pred_solution.astype(int)"
   ]
  },
  {
   "cell_type": "code",
   "execution_count": 34,
   "metadata": {
    "id": "shIk32Vxi-MJ"
   },
   "outputs": [],
   "source": [
    "#Формируем sample_solution для отправки на платформу\n",
    "\n",
    "test['PATIENT_ID_COUNT'] = y_pred_solution.astype(int)"
   ]
  },
  {
   "cell_type": "code",
   "execution_count": null,
   "metadata": {},
   "outputs": [],
   "source": []
  },
  {
   "cell_type": "code",
   "execution_count": 35,
   "metadata": {},
   "outputs": [],
   "source": [
    "# Обнуление отрицательных значений PATIENT_ID_COUNT\n",
    "#test[test['PATIENT_ID_COUNT'] < 0]\n",
    "test.loc[(test['PATIENT_ID_COUNT'] < 0), 'PATIENT_ID_COUNT'] = 0 "
   ]
  },
  {
   "cell_type": "code",
   "execution_count": null,
   "metadata": {},
   "outputs": [],
   "source": []
  },
  {
   "cell_type": "code",
   "execution_count": 36,
   "metadata": {
    "id": "36FP3OirjB0n"
   },
   "outputs": [],
   "source": [
    "#Сохраняем в csv файл\n",
    " \n",
    "test.to_csv('sample_solution.csv', sep=';', index=None)"
   ]
  },
  {
   "cell_type": "code",
   "execution_count": 37,
   "metadata": {},
   "outputs": [],
   "source": [
    "#model_solution.plot_tree(tree_idx=0)"
   ]
  },
  {
   "cell_type": "code",
   "execution_count": 38,
   "metadata": {},
   "outputs": [
    {
     "name": "stdout",
     "output_type": "stream",
     "text": [
      "nan_mode, Min\n",
      "eval_metric, RMSE\n",
      "combinations_ctr, ['Borders:CtrBorderCount=15:CtrBorderType=Uniform:TargetBorderCount=1:TargetBorderType=MinEntropy:Prior=0/1:Prior=0.5/1:Prior=1/1', 'Counter:CtrBorderCount=15:CtrBorderType=Uniform:Prior=0/1']\n",
      "iterations, 1000\n",
      "sampling_frequency, PerTree\n",
      "fold_permutation_block, 0\n",
      "leaf_estimation_method, Newton\n",
      "counter_calc_method, SkipTest\n",
      "grow_policy, SymmetricTree\n",
      "penalties_coefficient, 1\n",
      "boosting_type, Plain\n",
      "model_shrink_mode, Constant\n",
      "feature_border_type, GreedyLogSum\n",
      "ctr_leaf_count_limit, 18446744073709551615\n",
      "bayesian_matrix_reg, 0.10000000149011612\n",
      "one_hot_max_size, 2\n",
      "force_unit_auto_pair_weights, False\n",
      "l2_leaf_reg, 3\n",
      "random_strength, 1\n",
      "rsm, 1\n",
      "boost_from_average, True\n",
      "max_ctr_complexity, 4\n",
      "model_size_reg, 0.5\n",
      "simple_ctr, ['Borders:CtrBorderCount=15:CtrBorderType=Uniform:TargetBorderCount=1:TargetBorderType=MinEntropy:Prior=0/1:Prior=0.5/1:Prior=1/1', 'Counter:CtrBorderCount=15:CtrBorderType=Uniform:Prior=0/1']\n",
      "pool_metainfo_options, {'tags': {}}\n",
      "subsample, 0.800000011920929\n",
      "use_best_model, False\n",
      "random_seed, 0\n",
      "depth, 7\n",
      "ctr_target_border_count, 1\n",
      "posterior_sampling, False\n",
      "has_time, False\n",
      "store_all_simple_ctr, False\n",
      "border_count, 254\n",
      "classes_count, 0\n",
      "auto_class_weights, None\n",
      "sparse_features_conflict_fraction, 0\n",
      "leaf_estimation_backtracking, AnyImprovement\n",
      "best_model_min_trees, 1\n",
      "model_shrink_rate, 0\n",
      "min_data_in_leaf, 1\n",
      "loss_function, RMSE\n",
      "learning_rate, 0.13346099853515625\n",
      "score_function, Cosine\n",
      "task_type, CPU\n",
      "leaf_estimation_iterations, 1\n",
      "bootstrap_type, MVS\n",
      "max_leaves, 128\n",
      "permutation_count, 4\n"
     ]
    }
   ],
   "source": [
    "# CatBoost дает нам словарь со всеми параметрами модели. Мы можем вывести их, как словарь.\n",
    "#or key,value in model_solution.get_all_params().items():\n",
    "for key,value in model.get_all_params().items():\n",
    "     print('{}, {}'.format(key,value))"
   ]
  },
  {
   "cell_type": "code",
   "execution_count": 39,
   "metadata": {},
   "outputs": [],
   "source": [
    "# 220824_00 Значение метрики R2 на test:  0.8682238751045731 0.531098 \n",
    "# 220825_01 Значение метрики R2 на test:  0.8682238751045731\n",
    "# 220825_02 Значение метрики R2 на test:  0.8537825457775633  Score = 0.414966  №79 depth = 5\n",
    "\n",
    "# 220826_03 Значение метрики R2 на test:  0.8798539416234589  Score = 0.532510  №67 depth = 7 test_size=0.20\n",
    "# 220826_04 Значение метрики R2 на test:  0.8842473246221985  Score = 0.372336  №82 depth = 8 iterations 1000\n",
    "# 220826_04 Значение метрики R2 на test:  0.8842473246221985  Score = 0.372336  №82 depth = 8 iterations 1000\n",
    "# 220826_05 Значение метрики R2 на test:  0.8864871709291094  Score = 0.369445  №83 depth = 8 iterations 600\n",
    "# 220826_06 Значение метрики R2 на test:  0.8794358366101589  Score = 0.383821  №81 depth = 7 iterations 600\n",
    "# 220826_07 Значение метрики R2 на test:  0.8798539416234589  Score = 0.532510  №81 depth = 7 iterations 1000 random_state=1  1428.6709322929382 \n",
    "# 220826_08 Значение метрики R2 на test:  0.9260984965259902  Score = 0.230134  №81 depth = 7 test_size=0.10 iterations 1000 random_state=1  1479.8006992340088 \n",
    "# 220826_09  - to 0                                           Score = 0.290758\n",
    "\n",
    "# 220827_10 R2 на test:  0.8798539416234589  Score = 0.548104  №60 depth = 7 iterations 1000 random_state=1  test_size=0.20 -to0\n",
    "# 220827_11 R2 на test:  0.9255703980885073  Score = 0.851569  №24 depth = 7 iterations 1000 random_state=1  test_size=0.20 -to0 to_datetime\n",
    "# 220827_12 R2 на test:  0.9255703980885073  Score = 0.794988  №30 depth = 7 iterations 1000 random_state=1  test_size=0.20 -to0 to_datetime  round\n",
    "# 220827_13 R2 на test:  0.9213149495331469  Score = 0.781080  №32 depth = 7 iterations 1250 random_state=1  test_size=0.20 -to0 to_datetime  \n",
    "# 220827_14 R2 на test:  0.9345372760719973  Score = 0.790558  №31 depth = 7 iterations 1000 random_state=42  test_size=0.20 -to0 to_datetime\n",
    "# выбросы\n",
    "# 220827_15 R2 на test:  0.8427967663252991  Score = 0.132736  №93 depth = 7 iterations 1000 random_state=42  test_size=0.20 -to0 to_datetime  выбр100\n",
    "# 220827_16 R2 на test:  0.9190516940540618  Score = 0.524285  №75 depth = 7 iterations 1000 random_state=42  test_size=0.20 -to0 to_datetime  выбр1000\n",
    "# 220827_16 R2 на test:  0.9190516940540618  Score = 0.524285  №75 depth = 7 iterations 1000 random_state=42  test_size=0.20 -to0 to_datetime  выбр10000\n",
    "\n",
    "# 220828_17 R2 на test:  0.9330170609283756  Score = 0.784042  №34 depth = 7 iterations 1000 random_state=1  test_size=0.20 -to0 to_datetime  выбр10000\n",
    "# 220828_18 R2 на test:  0.9255703980885073  Score = 0.784042  №34 depth = 7 iterations 1000 random_state=1  test_size=0.20 -to0 to_datetime\n",
    "# 220828_19 R2 на test:  0.9400620010941232  Score = 0.790992  №35 depth = 7 iterations 1000 random_state=1  test_size=0.20 -to0 to_datetime  drop10000\n",
    "\n",
    "# 220829_20 R2 на test:  0.9344496901857704  Score = 0.786412  №38 depth = 7 iterations 1000 random_state=1  test_size=0.20 -to0 to_datetime  drop1000\n",
    "# 220829_21 220827_11 R2 0.9255703980885073  Score = 0.794261  №37 depth = 7 iterations 1000 random_state=1  test_size=0.20 -to0 to_datetime\n",
    "# 220829_22 R2 на test:  0.9255703980885073  Score =    №  depth = 7 iterations 1000 random_state=42 test_size=0.20 -to0 to_datetime\n"
   ]
  },
  {
   "cell_type": "code",
   "execution_count": 40,
   "metadata": {},
   "outputs": [
    {
     "name": "stdout",
     "output_type": "stream",
     "text": [
      "--- 750.8684842586517 seconds ---\n"
     ]
    }
   ],
   "source": [
    "print(\"--- %s seconds ---\" % (time.time() - start_time))"
   ]
  },
  {
   "cell_type": "code",
   "execution_count": 41,
   "metadata": {},
   "outputs": [],
   "source": [
    "import winsound\n",
    "duration = 1000  # milliseconds\n",
    "freq = 440  # Hz\n",
    "winsound.Beep(freq, duration)"
   ]
  }
 ],
 "metadata": {
  "accelerator": "GPU",
  "colab": {
   "collapsed_sections": [],
   "name": "baseline.ipynb",
   "provenance": []
  },
  "gpuClass": "standard",
  "kernelspec": {
   "display_name": "Python 3 (ipykernel)",
   "language": "python",
   "name": "python3"
  },
  "language_info": {
   "codemirror_mode": {
    "name": "ipython",
    "version": 3
   },
   "file_extension": ".py",
   "mimetype": "text/x-python",
   "name": "python",
   "nbconvert_exporter": "python",
   "pygments_lexer": "ipython3",
   "version": "3.9.12"
  }
 },
 "nbformat": 4,
 "nbformat_minor": 1
}
